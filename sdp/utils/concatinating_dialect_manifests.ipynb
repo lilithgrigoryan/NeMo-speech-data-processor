{
 "cells": [
  {
   "cell_type": "code",
   "execution_count": 20,
   "metadata": {},
   "outputs": [],
   "source": [
    "from sdp.utils.common import load_manifest\n",
    "import os\n",
    "from pathlib import Path\n",
    "import shutil\n",
    "import json"
   ]
  },
  {
   "cell_type": "code",
   "execution_count": 35,
   "metadata": {},
   "outputs": [],
   "source": [
    "# concatinating manifests\n",
    "workdir_path = \"/home/lgrigoryan/prog/asr_commonvoice_finetuning/NeMo-speech-data-processor/workdir\"\n",
    "split = \"test\"\n",
    "dialect = \"Egypt\"\n",
    "\n",
    "result_dir = \"/home/lgrigoryan/prog/asr_commonvoice_finetuning/NeMo-speech-data-processor/workdir/dialects_pc\"\n",
    "result_dir = os.path.join(result_dir, split, dialect)\n",
    "result_audios_dir = os.path.join(result_dir, \"audios\")\n",
    "os.makedirs(result_dir, exist_ok=True)\n",
    "os.makedirs(result_audios_dir, exist_ok=True)\n",
    "\n",
    "manifest_path1 = Path(os.path.join(workdir_path, \"only_pc\", f\"clean_{split}_pc\", dialect, \"manifest.json\"))\n",
    "manifest_path2 = Path(os.path.join(workdir_path, \"only_pc\", f\"noisy_{split}_pc\", dialect, \"manifest.json\"))\n",
    "\n",
    "manifest1 = load_manifest(manifest_path1)\n",
    "manifest2 = load_manifest(manifest_path2)"
   ]
  },
  {
   "cell_type": "code",
   "execution_count": 36,
   "metadata": {},
   "outputs": [],
   "source": [
    "result_manifest_path = os.path.join(result_dir, \"manifest.json\")\n",
    "res_audios_path = Path(result_audios_dir)\n",
    "with open(result_manifest_path, mode=\"w\") as f:\n",
    "    for sample in manifest1:\n",
    "        src_audios_path = Path(os.path.join(os.path.dirname(manifest_path1)), \"audios\")\n",
    "        shutil.copy(\n",
    "            src=src_audios_path.joinpath(os.path.basename(Path(sample[\"audio_filepath\"]))),\n",
    "            dst=res_audios_path.joinpath(os.path.basename(Path(sample[\"audio_filepath\"]))),\n",
    "        )\n",
    "        json.dump(sample, f)\n",
    "        f.write('\\n')\n",
    "    for sample in manifest2:\n",
    "        src_audios_path = Path(os.path.join(os.path.dirname(manifest_path2)), \"audios\")\n",
    "        shutil.copy(\n",
    "            src=src_audios_path.joinpath(os.path.basename(Path(sample[\"audio_filepath\"]))),\n",
    "            dst=res_audios_path.joinpath(os.path.basename(Path(sample[\"audio_filepath\"]))),\n",
    "        )\n",
    "        json.dump(sample, f)\n",
    "        f.write('\\n')"
   ]
  },
  {
   "cell_type": "code",
   "execution_count": null,
   "metadata": {},
   "outputs": [],
   "source": []
  }
 ],
 "metadata": {
  "kernelspec": {
   "display_name": "asr-venv",
   "language": "python",
   "name": "python3"
  },
  "language_info": {
   "codemirror_mode": {
    "name": "ipython",
    "version": 3
   },
   "file_extension": ".py",
   "mimetype": "text/x-python",
   "name": "python",
   "nbconvert_exporter": "python",
   "pygments_lexer": "ipython3",
   "version": "3.10.12"
  }
 },
 "nbformat": 4,
 "nbformat_minor": 2
}
