{
 "cells": [
  {
   "cell_type": "code",
   "execution_count": 23,
   "metadata": {},
   "outputs": [],
   "source": [
    "import pandas as pd\n",
    "\n",
    "split = \"noisy_test\"\n",
    "\n",
    "split_csv = pd.read_csv(f\"/home/lgrigoryan/data/datasets/arab/masc/subsets/{split}.csv\")\n",
    "split_meta = pd.read_csv(f\"/home/lgrigoryan/data/datasets/arab/masc/subsets/{split}_meta.csv\")\n",
    "train_csv = pd.read_csv(f\"/home/lgrigoryan/data/datasets/arab/masc/subsets/clean_train.csv\")"
   ]
  },
  {
   "cell_type": "code",
   "execution_count": 24,
   "metadata": {},
   "outputs": [
    {
     "name": "stdout",
     "output_type": "stream",
     "text": [
      "         video_id    start       end  duration  \\\n",
      "0     -nFeX68eNkc    0.320    2.3200      2.00   \n",
      "1     -nFeX68eNkc    2.880    5.2000      2.32   \n",
      "2     -nFeX68eNkc    5.536    8.4960      2.96   \n",
      "3     -nFeX68eNkc    8.720   10.4900      1.77   \n",
      "4     -nFeX68eNkc   10.614   13.3180      2.70   \n",
      "...           ...      ...       ...       ...   \n",
      "9389  ZB9xhtt4x6w   56.899   61.1190      4.22   \n",
      "9390  ZB9xhtt4x6w   61.509   69.9588      8.45   \n",
      "9391  ZB9xhtt4x6w  115.388  117.8980      2.51   \n",
      "9392  ZB9xhtt4x6w  118.048  120.6780      2.63   \n",
      "9393  ZB9xhtt4x6w  124.868  128.3280      3.46   \n",
      "\n",
      "                                                   text            category  \\\n",
      "0                                بسم الله الرحمن الرحيم       ['Education']   \n",
      "1                                 الحمد لله رب العالمين       ['Education']   \n",
      "2                        والصلاه والسلام على سيدنا محمد       ['Education']   \n",
      "3                                   الصادق الوعد الامين       ['Education']   \n",
      "4                               الاحسان الاحسان الاحسان       ['Education']   \n",
      "...                                                 ...                 ...   \n",
      "9389         فكلم الرب موسى قائلا سمعت تذمر بني اسرائيل  ['People & Blogs']   \n",
      "9390  كلمهم قائلا في العشي تاكلون لحما وفي الصباح تش...  ['People & Blogs']   \n",
      "9391                                 ببساطه هو قال الحل  ['People & Blogs']   \n",
      "9392                        اطلبوا اولا ملكوت الله وبره  ['People & Blogs']   \n",
      "9393  لو عجبكم الفيديو ده ما تنسوش تعملوا لايك وسبسك...  ['People & Blogs']   \n",
      "\n",
      "      video_duration                channel_id country dialect  gender  \\\n",
      "0                 77  UC7naRnmAOTwDPu738W2SljQ      TR   Syria    Male   \n",
      "1                 77  UC7naRnmAOTwDPu738W2SljQ      TR   Syria    Male   \n",
      "2                 77  UC7naRnmAOTwDPu738W2SljQ      TR   Syria    Male   \n",
      "3                 77  UC7naRnmAOTwDPu738W2SljQ      TR   Syria    Male   \n",
      "4                 77  UC7naRnmAOTwDPu738W2SljQ      TR   Syria    Male   \n",
      "...              ...                       ...     ...     ...     ...   \n",
      "9389             144  UCmQJuL0AAj9E78a0SdmkdoQ      JO   Egypt  Female   \n",
      "9390             144  UCmQJuL0AAj9E78a0SdmkdoQ      JO   Egypt  Female   \n",
      "9391             144  UCmQJuL0AAj9E78a0SdmkdoQ      JO   Egypt  Female   \n",
      "9392             144  UCmQJuL0AAj9E78a0SdmkdoQ      JO   Egypt  Female   \n",
      "9393             144  UCmQJuL0AAj9E78a0SdmkdoQ      JO   Egypt  Female   \n",
      "\n",
      "      transcript_duration  \n",
      "0                    53.3  \n",
      "1                    53.3  \n",
      "2                    53.3  \n",
      "3                    53.3  \n",
      "4                    53.3  \n",
      "...                   ...  \n",
      "9389                117.2  \n",
      "9390                117.2  \n",
      "9391                117.2  \n",
      "9392                117.2  \n",
      "9393                117.2  \n",
      "\n",
      "[9394 rows x 12 columns]\n"
     ]
    }
   ],
   "source": [
    "split_ids = set(split_csv[\"video_id\"])\n",
    "\n",
    "split_with_meta = pd.merge(split_csv, split_meta)\n",
    "print(split_with_meta)\n"
   ]
  },
  {
   "cell_type": "code",
   "execution_count": 25,
   "metadata": {},
   "outputs": [],
   "source": [
    "split_with_meta.to_csv(f\"/home/lgrigoryan/data/datasets/arab/masc/subsets/{split}_with_meta.csv\", index=False)"
   ]
  }
 ],
 "metadata": {
  "kernelspec": {
   "display_name": "asr-venv",
   "language": "python",
   "name": "python3"
  },
  "language_info": {
   "codemirror_mode": {
    "name": "ipython",
    "version": 3
   },
   "file_extension": ".py",
   "mimetype": "text/x-python",
   "name": "python",
   "nbconvert_exporter": "python",
   "pygments_lexer": "ipython3",
   "version": "3.10.12"
  }
 },
 "nbformat": 4,
 "nbformat_minor": 2
}
