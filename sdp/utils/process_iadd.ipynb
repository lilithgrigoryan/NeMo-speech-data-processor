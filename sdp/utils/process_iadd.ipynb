{
 "cells": [
  {
   "cell_type": "code",
   "execution_count": 7,
   "metadata": {},
   "outputs": [],
   "source": [
    "import json\n",
    "\n",
    "dataset_path = \"/home/lgrigoryan/data/datasets/arab/text_iadd/IADD.json\"\n",
    "manifest_path = \"/home/lgrigoryan/data/datasets/arab/text_iadd/manifest_IADD.json\""
   ]
  },
  {
   "cell_type": "code",
   "execution_count": 12,
   "metadata": {},
   "outputs": [],
   "source": [
    "with open(dataset_path) as f:\n",
    "    dataset = json.load(f)\n",
    "    \n",
    "with open(manifest_path, mode=\"w\") as f:\n",
    "    for sample in dataset:\n",
    "        json.dump({\"text\": sample[\"Sentence\"], \"region\": sample[\"Region\"], \"source\": sample[\"DataSource\"], \"country\": sample[\"Country\"]}, f)\n",
    "        f.write(\"\\n\")\n",
    "    "
   ]
  },
  {
   "cell_type": "code",
   "execution_count": null,
   "metadata": {},
   "outputs": [],
   "source": []
  }
 ],
 "metadata": {
  "kernelspec": {
   "display_name": "asr-venv",
   "language": "python",
   "name": "python3"
  },
  "language_info": {
   "codemirror_mode": {
    "name": "ipython",
    "version": 3
   },
   "file_extension": ".py",
   "mimetype": "text/x-python",
   "name": "python",
   "nbconvert_exporter": "python",
   "pygments_lexer": "ipython3",
   "version": "3.10.12"
  }
 },
 "nbformat": 4,
 "nbformat_minor": 2
}
