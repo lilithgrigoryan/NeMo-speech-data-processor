{
 "cells": [
  {
   "cell_type": "code",
   "execution_count": 25,
   "id": "c583d3fd-1697-4535-a498-558593c75d4c",
   "metadata": {},
   "outputs": [],
   "source": [
    "from collections import Counter\n",
    "\n",
    "train_counter = None\n",
    "with open(\"freqs/train.txt\") as f:\n",
    "    text = f.read()\n",
    "    train_counter = Counter(text)\n",
    "    \n",
    "# ['َ', 'ِ', 'ْ', 'ُ', 'ّ', 'ٍ', 'ٌ', 'ً']\n",
    "diacr_freqs=dict((x, train_counter[x]) for x in train_counter if x in [\"\\u064E\", \"\\u0650\", \"\\u0652\", \"\\u064F\", \"\\u0651\", \"\\u064D\", \"\\u064C\", \"\\u064B\"])"
   ]
  },
  {
   "cell_type": "code",
   "execution_count": 33,
   "id": "c90a44a8-3ec8-4027-9b63-d8dc9fb6ae33",
   "metadata": {},
   "outputs": [
    {
     "name": "stdout",
     "output_type": "stream",
     "text": [
      "َ\n",
      "ِ\n",
      "ْ\n",
      "ُ\n"
     ]
    }
   ],
   "source": [
    "print(\"\\u064E\")\n",
    "print(\"\\u0650\")\n",
    "print(\"\\u0652\")\n",
    "print(\"\\u064F\")\n",
    "\n",
    "print(\"\\u0651\")\n",
    "print(\"\\u064D\")\n",
    "print(\"\\u064C\")\n",
    "print(\"\\u064B\")\n"
   ]
  },
  {
   "cell_type": "code",
   "execution_count": 40,
   "id": "fba17ee7-994b-4fd1-b586-5b6871b9c587",
   "metadata": {},
   "outputs": [
    {
     "name": "stdout",
     "output_type": "stream",
     "text": [
      "{'َ': 198164, 'ِ': 106425, 'ْ': 50185, 'ُ': 94395, 'ّ': 72726, 'ٍ': 14987, 'ٌ': 9020, 'ً': 44151}\n"
     ]
    }
   ],
   "source": [
    "from pathlib import Path\n",
    "\n",
    "diacritics_list = [\"\\u064E\", \"\\u0650\", \"\\u0652\", \"\\u064F\", \"\\u0651\", \"\\u064D\", \"\\u064C\", \"\\u064B\"]\n",
    "freqs_map = dict((x, 0) for x in diacritics_list)\n",
    "from sdp.utils.common import load_manifest\n",
    "\n",
    "manifest_path = \"/home/lgrigoryan/prog/asr_commonvoice_finetuning/NeMo-speech-data-processor/workdir/v0/clean_train/manifest18.json\"\n",
    "\n",
    "samples = load_manifest(Path(manifest_path))\n",
    "for sample in samples:\n",
    "    for d in diacritics_list:\n",
    "        freqs_map[d] += sample['text'].count(d)\n",
    "\n",
    "print(freqs_map)"
   ]
  },
  {
   "cell_type": "code",
   "execution_count": 45,
   "id": "10fc9ced-4385-45b6-be7d-0608ec75b1ce",
   "metadata": {},
   "outputs": [
    {
     "data": {
      "image/png": "[encoded data removed]",
      "text/plain": [
       "<Figure size 640x480 with 1 Axes>"
      ]
     },
     "metadata": {},
     "output_type": "display_data"
    }
   ],
   "source": [
    "import numpy as np\n",
    "import matplotlib.pyplot as plt\n",
    "\n",
    "labels, values = zip(*sorted(freqs_map.items(), key= lambda x: x[1]))\n",
    "\n",
    "indexes = np.arange(len(labels))\n",
    "width = 1\n",
    "\n",
    "plt.bar(indexes, values, width)\n",
    "plt.xticks(indexes + width * 0.5, [format(ord(l), \"#06x\") for l in labels])\n",
    "plt.show()"
   ]
  },
  {
   "cell_type": "code",
   "execution_count": null,
   "id": "afc29eca-e8a6-47c8-bffb-4f54b78cfb0d",
   "metadata": {},
   "outputs": [],
   "source": [
    "import numpy as np\n",
    "import matplotlib.pyplot as plt\n",
    "\n",
    "labels, values = zip(*sorted(train_counter.items(), key= lambda x: x[1]))\n",
    "\n",
    "indexes = np.arange(len(labels))\n",
    "width = 1\n",
    "\n",
    "plt.bar(indexes, values, width)\n",
    "plt.xticks(indexes + width * 0.5, [format(ord(l), \"#06x\") for l in labels])\n",
    "plt.show()"
   ]
  }
 ],
 "metadata": {
  "kernelspec": {
   "display_name": "Python 3 (ipykernel)",
   "language": "python",
   "name": "python3"
  },
  "language_info": {
   "codemirror_mode": {
    "name": "ipython",
    "version": 3
   },
   "file_extension": ".py",
   "mimetype": "text/x-python",
   "name": "python",
   "nbconvert_exporter": "python",
   "pygments_lexer": "ipython3",
   "version": "3.10.12"
  }
 },
 "nbformat": 4,
 "nbformat_minor": 5
}
